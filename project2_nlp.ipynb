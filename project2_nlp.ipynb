{
 "cells": [
  {
   "cell_type": "code",
   "execution_count": 750,
   "metadata": {},
   "outputs": [],
   "source": [
    "import requests\n",
    "from bs4 import BeautifulSoup\n",
    "from nltk.tokenize import TweetTokenizer\n",
    "import re\n",
    "import nltk\n",
    "import fractions"
   ]
  },
  {
   "cell_type": "code",
   "execution_count": 700,
   "metadata": {},
   "outputs": [
    {
     "data": {
      "text/plain": [
       "{'ground beef ': ['1 1/2', 'pounds', [], []],\n",
       " 'powder ': ['1', 'teaspoon', ['garlic'], []],\n",
       " 'sausage spaghetti ': ['1', 'jar', [], []],\n",
       " 'tomato sauce ': ['1', 'can', [], []],\n",
       " 'oregano ': ['teaspoon', 'teaspoon', [], ['dried']],\n",
       " 'oil ': ['1', 'tablespoon', ['olive'], []],\n",
       " 'garlic ': ['4', 'cloves', [], [' minced']],\n",
       " 'onion ': ['1', 'None', ['small'], [' diced']],\n",
       " 'mozzarella cheese ': ['1', 'package', [], [' shredded']],\n",
       " 'provolone cheese ': ['8', 'ounces', [], [' shredded']],\n",
       " 'ricotta cheese ': ['1', 'container', [], []],\n",
       " 'eggs ': ['2', 'None', [], []],\n",
       " 'milk ': ['cup', 'cup', [], []],\n",
       " 'lasagna noodles ': ['9', 'None', [], []],\n",
       " 'cheese ': ['cup', 'cup', ['parmesan'], ['grated']]}"
      ]
     },
     "execution_count": 700,
     "metadata": {},
     "output_type": "execute_result"
    }
   ],
   "source": [
    "get_ingredients('https://www.allrecipes.com/recipe/24074/alysias-basic-meat-lasagna/')"
   ]
  },
  {
   "cell_type": "code",
   "execution_count": 734,
   "metadata": {},
   "outputs": [],
   "source": [
    "#input is a url as a string\n",
    "def get_ingredients(url):\n",
    "    ingredients = scrape_ingredients(url)\n",
    "    ingreds = {}\n",
    "    for i in ingredients:\n",
    "        tknzr = TweetTokenizer()\n",
    "        t = tknzr.tokenize(i)\n",
    "        if '/' in t[1]:\n",
    "            quantity = t[0] + ' ' + t[1]\n",
    "        \n",
    "        elif not hasNumbers(t[0]):\n",
    "            quantity = t[1]\n",
    "        else:\n",
    "            quantity = t[0]\n",
    "        \n",
    "        measurement = get_measurement(i)\n",
    "\n",
    "        name = get_name(i)\n",
    "        pos = nltk.pos_tag(name.split())\n",
    "        nom = []\n",
    "        for k in pos:\n",
    "            if k[1] == 'NNS':\n",
    "                nom.append(k[0])\n",
    "            if k[1] == 'NN':\n",
    "                nom.append(k[0])\n",
    "            if k[1] == 'garlic':\n",
    "                nom.append(k[0])\n",
    "        n = ''\n",
    "        for j in nom:\n",
    "            n = n + j + ' '\n",
    "\n",
    "        pos = get_descriptor(name)\n",
    "\n",
    "        prep = get_prep(name, i)\n",
    "\n",
    "        ingreds[str(n)] = [str(quantity), str(measurement), pos, prep]\n",
    "        \n",
    "    #print('{name : [quantity, measurement, descriptor, preparation]}') \n",
    "    return ingreds\n",
    "        \n",
    "    "
   ]
  },
  {
   "cell_type": "code",
   "execution_count": 733,
   "metadata": {},
   "outputs": [],
   "source": [
    "def hasNumbers(inputString):\n",
    "    return any(char.isdigit() for char in inputString)"
   ]
  },
  {
   "cell_type": "code",
   "execution_count": 702,
   "metadata": {},
   "outputs": [],
   "source": [
    "def scrape_ingredients(url):\n",
    "    page = requests.get(url)\n",
    "    soup = BeautifulSoup(page.text, 'html.parser')\n",
    "    ingredients_html = soup.findAll(class_ = 'checkList__line')\n",
    "    ingredients = []\n",
    "    for i in ingredients_html:\n",
    "        try:\n",
    "            mystr = str(i)\n",
    "            ingredients.append(mystr.split('title=')[1].split('>')[0].strip('\"'))\n",
    "        except:\n",
    "            pass\n",
    "        \n",
    "    return ingredients\n",
    "     \n",
    "    "
   ]
  },
  {
   "cell_type": "code",
   "execution_count": 703,
   "metadata": {},
   "outputs": [],
   "source": [
    "def get_measurement(ingred):\n",
    "    units = ['package','slice', 'container','litre', 'gallon', 'quart', 'cup', 'pint', 'jar', 'can', 'clove', 'ounce', 'spoon', 'gram', 'pound', 'pinch']\n",
    "    tknzr = TweetTokenizer()\n",
    "    t = tknzr.tokenize(ingred)\n",
    "    for u in units:\n",
    "        for w in t:\n",
    "            if u in w:\n",
    "                return w\n",
    "        \n",
    "    "
   ]
  },
  {
   "cell_type": "code",
   "execution_count": 704,
   "metadata": {},
   "outputs": [],
   "source": [
    "def get_name(ingred):\n",
    "    tknzr = TweetTokenizer()\n",
    "    t = tknzr.tokenize(ingred)\n",
    "    m = get_measurement(ingred)\n",
    "    try:\n",
    "        n = re.search(r'\\d+', ingred).group()\n",
    "        if (m and m != 'Not found' and m != 'None'):\n",
    "            rest = ingred.split(m)[1]\n",
    "            if ',' in rest:\n",
    "                return rest.split(',')[0].lower()\n",
    "            else:\n",
    "                return rest.lower()\n",
    "        else:\n",
    "            rest = ingred.split(n)[1]\n",
    "            if ',' in rest:\n",
    "                return rest.split(',')[0].lower()\n",
    "            else:\n",
    "                return rest\n",
    "    except:\n",
    "        return ingred\n",
    "        "
   ]
  },
  {
   "cell_type": "code",
   "execution_count": 705,
   "metadata": {},
   "outputs": [],
   "source": [
    "def get_descriptor(name):\n",
    "    descrip = []\n",
    "    pos = nltk.pos_tag(name.split())\n",
    "    for i in pos:\n",
    "        if i[1] == 'JJ':\n",
    "            descrip.append(i[0])\n",
    "    return descrip"
   ]
  },
  {
   "cell_type": "code",
   "execution_count": 706,
   "metadata": {},
   "outputs": [],
   "source": [
    "def get_prep(name, ingred):\n",
    "    prep = []\n",
    "    pos = nltk.pos_tag(name.split())\n",
    "    for i in pos:\n",
    "        if i[1] == 'VBN':\n",
    "            prep.append(i[0])\n",
    "\n",
    "    tknzr = TweetTokenizer()\n",
    "    t = tknzr.tokenize(ingred)\n",
    "\n",
    "    m = get_measurement(ingred)\n",
    "    \n",
    "    try:\n",
    "        n = re.search(r'\\d+', ingred).group()\n",
    "\n",
    "\n",
    "        if (m and m != 'Not found' and m != 'None'):\n",
    "            rest = ingred.split(m)[1]\n",
    "            if ',' in rest:\n",
    "                prep.append(rest.split(',')[1].lower())\n",
    "        else:\n",
    "            rest = ingred.split(n)[1]\n",
    "            if ',' in rest:\n",
    "                prep.append(rest.split(',')[1].lower())\n",
    "        return prep\n",
    "    except:\n",
    "        return ''"
   ]
  },
  {
   "cell_type": "markdown",
   "metadata": {},
   "source": [
    "# testing"
   ]
  },
  {
   "cell_type": "code",
   "execution_count": 707,
   "metadata": {},
   "outputs": [],
   "source": [
    "url = 'https://www.allrecipes.com/recipe/218091/classic-and-simple-meat-lasagna/'\n",
    "page = requests.get(url)\n",
    "soup = BeautifulSoup(page.text, 'html.parser')\n",
    "ingredients_html = soup.findAll(class_ = 'checkList__line')"
   ]
  },
  {
   "cell_type": "code",
   "execution_count": 708,
   "metadata": {},
   "outputs": [],
   "source": [
    "ingredients = []\n",
    "for i in ingredients_html:\n",
    "    try:\n",
    "        mystr = str(i)\n",
    "        ingredients.append(mystr.split('title=')[1].split('>')[0].strip('\"'))\n",
    "    except:\n",
    "        pass\n",
    "     "
   ]
  },
  {
   "cell_type": "code",
   "execution_count": 672,
   "metadata": {},
   "outputs": [],
   "source": [
    "ingreds = {}"
   ]
  },
  {
   "cell_type": "code",
   "execution_count": 673,
   "metadata": {},
   "outputs": [
    {
     "data": {
      "text/plain": [
       "['12 whole wheat lasagna noodles',\n",
       " '1 pound lean ground beef',\n",
       " '2 cloves garlic, chopped',\n",
       " '1/2 teaspoon garlic powder',\n",
       " '1 teaspoon dried oregano, or to taste',\n",
       " 'salt and ground black pepper to taste',\n",
       " '1 (16 ounce) package cottage cheese',\n",
       " '2 eggs',\n",
       " '1/2 cup shredded Parmesan cheese',\n",
       " '1 1/2 (25 ounce) jars tomato-basil pasta sauce',\n",
       " '2 cups shredded mozzarella cheese']"
      ]
     },
     "execution_count": 673,
     "metadata": {},
     "output_type": "execute_result"
    }
   ],
   "source": [
    "ingredients"
   ]
  },
  {
   "cell_type": "code",
   "execution_count": 678,
   "metadata": {},
   "outputs": [],
   "source": [
    "for i in ingredients:\n",
    "    tknzr = TweetTokenizer()\n",
    "    t = tknzr.tokenize(i)\n",
    "    if '/' in t[1]:\n",
    "        quantity = t[0] + ' ' + t[1]\n",
    "    elif not t[0].isnumeric():\n",
    "        quantity = t[1]\n",
    "    else:\n",
    "        quantity = t[0]\n",
    "    \n",
    "    measurement = get_measurement(i)\n",
    "    \n",
    "    name = get_name(i)\n",
    "    pos = nltk.pos_tag(name.split())\n",
    "    nom = []\n",
    "    for k in pos:\n",
    "        if k[1] == 'NNS':\n",
    "            nom.append(k[0])\n",
    "        if k[1] == 'NN':\n",
    "            nom.append(k[0])\n",
    "        if k[1] == 'garlic':\n",
    "            nom.append(k[0])\n",
    "    n = ''\n",
    "    for j in nom:\n",
    "        n = n + j + ' '\n",
    "        \n",
    "    pos = get_descriptor(name)\n",
    "    \n",
    "    prep = get_prep(name, i)\n",
    "    \n",
    "    ingreds[str(n)] = [str(quantity), str(measurement), pos, prep]"
   ]
  },
  {
   "cell_type": "code",
   "execution_count": 679,
   "metadata": {},
   "outputs": [
    {
     "name": "stdout",
     "output_type": "stream",
     "text": [
      "{name : [quantity, measurement, descriptor, preparation]}\n"
     ]
    },
    {
     "data": {
      "text/plain": [
       "{'wheat lasagna noodles ': ['12', 'None', ['whole'], []],\n",
       " 'ground beef ': ['1', 'pound', ['lean'], []],\n",
       " 'garlic ': ['2', 'cloves', [], [' chopped']],\n",
       " 'powder ': ['teaspoon', 'teaspoon', ['garlic'], []],\n",
       " 'oregano ': ['1', 'teaspoon', [], ['dried', ' or to taste']],\n",
       " 'salt ground pepper ': ['and', 'None', ['black'], ''],\n",
       " 'cottage cheese ': ['1', 'package', [], []],\n",
       " 'eggs ': ['2', 'None', [], []],\n",
       " 'cheese ': ['cup', 'cup', ['parmesan'], ['shredded']],\n",
       " 'pasta sauce ': ['1 1/2', 'jars', ['tomato-basil'], []],\n",
       " 'mozzarella cheese ': ['2', 'cups', [], ['shredded']]}"
      ]
     },
     "execution_count": 679,
     "metadata": {},
     "output_type": "execute_result"
    }
   ],
   "source": [
    "print('{name : [quantity, measurement, descriptor, preparation]}')\n",
    "ingreds"
   ]
  },
  {
   "cell_type": "markdown",
   "metadata": {},
   "source": [
    "# make_veg, make_meat, double"
   ]
  },
  {
   "cell_type": "code",
   "execution_count": 746,
   "metadata": {},
   "outputs": [],
   "source": [
    "def make_veg(i_dict):\n",
    "    new_dict = {}\n",
    "    meat = ['beef', 'chicken', 'pork', 'salmon', 'tuna', 'sausage', 'veal', 'turkey', 'duck', 'goat', 'lamb', 'meatball', \n",
    "            'shrimp', 'crab', 'lobster', 'hot dog', 'bacon', 'ham', 'burger', 'patty', 'pork']\n",
    "     \n",
    "    for key, value in i_dict.items():\n",
    "        new_value = [value[0], value[1], [], []]\n",
    "        start = len(new_dict)\n",
    "        i = 0\n",
    "        for m in meat:\n",
    "            if m in key:\n",
    "                i = 1\n",
    "                new_key = key.replace(m, 'tofu')\n",
    "                new_dict[new_key] = new_value\n",
    "                \n",
    "        if len(new_dict) == start:\n",
    "            if i == 1:\n",
    "                new_key = key.replace(m, 'seitan')\n",
    "                new_dict[new_key] = new_value\n",
    "            else:\n",
    "                new_dict[key] = value\n",
    "    return new_dict\n"
   ]
  },
  {
   "cell_type": "code",
   "execution_count": 748,
   "metadata": {},
   "outputs": [
    {
     "data": {
      "text/plain": [
       "{'baby carrots ': ['8', 'ounces', [], []],\n",
       " 'brussels sprouts ': ['8', 'ounces', [], [' halved lengthwise']],\n",
       " 'onion ': ['1', 'None', ['small', 'red'], [' peeled and cut into 8 wedges']],\n",
       " 'oil ': ['3', 'tablespoons', ['olive'], []],\n",
       " 'rosemary ': ['2', 'teaspoons', ['fresh'], ['chopped']],\n",
       " 'kosher salt ': ['1', 'teaspoon', [], []],\n",
       " 'pepper ': ['1/2', 'teaspoon', ['black'], []],\n",
       " 'hillshire farm(r) rope tofu ': ['1', 'package', [], []],\n",
       " 'medium honeycrisp apple ': ['1', 'None', [], [' cut into ']],\n",
       " 'lemon ': ['1', 'None', [], [' halved']],\n",
       " 'parsley ': ['2', 'tablespoons', [], ['chopped']]}"
      ]
     },
     "execution_count": 748,
     "metadata": {},
     "output_type": "execute_result"
    }
   ],
   "source": [
    "make_veg(get_ingredients('https://www.allrecipes.com/recipe/269230/sheet-pan-smoked-sausage-apple-and-root-veggie-dinner/?internalSource=rotd&referringContentType=Homepage'))"
   ]
  },
  {
   "cell_type": "code",
   "execution_count": 764,
   "metadata": {},
   "outputs": [],
   "source": [
    "def double_amount(i_dict):\n",
    "    for key, value in i_dict.items():\n",
    "        if '/' in value[0]:\n",
    "            fraction_obj = sum(map(fractions.Fraction, value[0].split()))\n",
    "            doubled = fraction_obj + fraction_obj\n",
    "            n = doubled.numerator \n",
    "            d = doubled.denominator \n",
    "            if str(n) == str(d):\n",
    "                amount = '1'\n",
    "            else:\n",
    "                amount = str(n) + str('/') + str(d)\n",
    "            i_dict[key] = [amount, value[1], value [2], value[3]] \n",
    "        elif value[0].isnumeric():\n",
    "            amount = int(value[0]) * 2\n",
    "            i_dict[key] = [amount, value[1], value [2], value[3]]\n",
    "        else:\n",
    "            i_dict[key] = value\n",
    "    return i_dict\n",
    "            "
   ]
  },
  {
   "cell_type": "code",
   "execution_count": 766,
   "metadata": {},
   "outputs": [
    {
     "data": {
      "text/plain": [
       "{'baby carrots ': [16, 'ounces', [], []],\n",
       " 'brussels sprouts ': [16, 'ounces', [], [' halved lengthwise']],\n",
       " 'onion ': [2, 'None', ['small', 'red'], [' peeled and cut into 8 wedges']],\n",
       " 'oil ': [6, 'tablespoons', ['olive'], []],\n",
       " 'rosemary ': [4, 'teaspoons', ['fresh'], ['chopped']],\n",
       " 'kosher salt ': [2, 'teaspoon', [], []],\n",
       " 'pepper ': ['1', 'teaspoon', ['black'], []],\n",
       " 'hillshire farm(r) rope sausage ': [2,\n",
       "  'package',\n",
       "  [],\n",
       "  [' cut in 1/2\" bias-cut slices\\'']],\n",
       " 'medium honeycrisp apple ': [2, 'None', [], [' cut into ']],\n",
       " 'lemon ': [2, 'None', [], [' halved']],\n",
       " 'parsley ': [4, 'tablespoons', [], ['chopped']]}"
      ]
     },
     "execution_count": 766,
     "metadata": {},
     "output_type": "execute_result"
    }
   ],
   "source": [
    "double_amount(get_ingredients('https://www.allrecipes.com/recipe/269230/sheet-pan-smoked-sausage-apple-and-root-veggie-dinner/?internalSource=rotd&referringContentType=Homepage'))"
   ]
  },
  {
   "cell_type": "code",
   "execution_count": 783,
   "metadata": {},
   "outputs": [],
   "source": [
    "def make_meat(i_dict):\n",
    "    new_dict = {}\n",
    "    subs = ['tofu', 'eggplant', 'seitan', 'jackfruit']\n",
    "    i = 0\n",
    "    for key, value in i_dict.items():\n",
    "        new_value = [value[0], 'pound(s)', [], []]\n",
    "        start = len(new_dict)\n",
    "        \n",
    "        for m in subs:\n",
    "            if m in key:\n",
    "                i = i + 1\n",
    "                new_key = key.replace(m, 'chicken')\n",
    "                new_dict[new_key] = new_value\n",
    "                \n",
    "        if len(new_dict) == start:\n",
    "                new_dict[key] = value\n",
    "    if i == 0:\n",
    "        new_dict['chicken'] = [1, 'pound', [], []]\n",
    "    \n",
    "    return new_dict\n"
   ]
  },
  {
   "cell_type": "code",
   "execution_count": 784,
   "metadata": {},
   "outputs": [],
   "source": [
    "test_dict = {'baby carrots': [16, 'ounces', [], []],\n",
    " 'brussels sprouts ': [16, 'ounces', [], [' halved lengthwise']],\n",
    " 'onion ': [2, 'None', ['small', 'red'], [' peeled and cut into 8 wedges']],\n",
    " 'oil ': [6, 'tablespoons', ['olive'], []],\n",
    " 'rosemary ': [4, 'teaspoons', ['fresh'], ['chopped']],\n",
    " 'kosher salt ': [2, 'teaspoon', [], []],\n",
    " 'pepper ': ['1', 'teaspoon', ['black'], []],\n",
    " 'eggplant ': [2,\n",
    "  'packages',\n",
    "  [],\n",
    "  []],\n",
    " 'medium honeycrisp apple ': [2, 'None', [], [' cut into ']],\n",
    " 'lemon ': [2, 'None', [], [' halved']],\n",
    " 'parsley ': [4, 'tablespoons', [], ['chopped']]}"
   ]
  },
  {
   "cell_type": "code",
   "execution_count": 785,
   "metadata": {},
   "outputs": [],
   "source": [
    "test_dict1 = {'baby carrots': [16, 'ounces', [], []],\n",
    " 'brussels sprouts ': [16, 'ounces', [], [' halved lengthwise']],\n",
    " 'onion ': [2, 'None', ['small', 'red'], [' peeled and cut into 8 wedges']],\n",
    " 'oil ': [6, 'tablespoons', ['olive'], []],\n",
    " 'rosemary ': [4, 'teaspoons', ['fresh'], ['chopped']],\n",
    " 'kosher salt ': [2, 'teaspoon', [], []],\n",
    " 'pepper ': ['1', 'teaspoon', ['black'], []],\n",
    " 'medium honeycrisp apple ': [2, 'None', [], [' cut into ']],\n",
    " 'lemon ': [2, 'None', [], [' halved']],\n",
    " 'parsley ': [4, 'tablespoons', [], ['chopped']]}"
   ]
  },
  {
   "cell_type": "code",
   "execution_count": 787,
   "metadata": {},
   "outputs": [
    {
     "data": {
      "text/plain": [
       "{'baby carrots': [16, 'ounces', [], []],\n",
       " 'brussels sprouts ': [16, 'ounces', [], [' halved lengthwise']],\n",
       " 'onion ': [2, 'None', ['small', 'red'], [' peeled and cut into 8 wedges']],\n",
       " 'oil ': [6, 'tablespoons', ['olive'], []],\n",
       " 'rosemary ': [4, 'teaspoons', ['fresh'], ['chopped']],\n",
       " 'kosher salt ': [2, 'teaspoon', [], []],\n",
       " 'pepper ': ['1', 'teaspoon', ['black'], []],\n",
       " 'medium honeycrisp apple ': [2, 'None', [], [' cut into ']],\n",
       " 'lemon ': [2, 'None', [], [' halved']],\n",
       " 'parsley ': [4, 'tablespoons', [], ['chopped']],\n",
       " 'chicken': [1, 'pound', [], []]}"
      ]
     },
     "execution_count": 787,
     "metadata": {},
     "output_type": "execute_result"
    }
   ],
   "source": [
    "make_meat(test_dict1)"
   ]
  },
  {
   "cell_type": "code",
   "execution_count": null,
   "metadata": {},
   "outputs": [],
   "source": []
  }
 ],
 "metadata": {
  "kernelspec": {
   "display_name": "Python 3",
   "language": "python",
   "name": "python3"
  },
  "language_info": {
   "codemirror_mode": {
    "name": "ipython",
    "version": 3
   },
   "file_extension": ".py",
   "mimetype": "text/x-python",
   "name": "python",
   "nbconvert_exporter": "python",
   "pygments_lexer": "ipython3",
   "version": "3.7.3"
  }
 },
 "nbformat": 4,
 "nbformat_minor": 2
}
